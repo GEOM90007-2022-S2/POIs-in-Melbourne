{
 "cells": [
  {
   "cell_type": "code",
   "execution_count": 1,
   "metadata": {},
   "outputs": [],
   "source": [
    "import pandas as pd\n",
    "import numpy as np"
   ]
  },
  {
   "cell_type": "markdown",
   "metadata": {},
   "source": [
    "Read CSV file"
   ]
  },
  {
   "cell_type": "code",
   "execution_count": 10,
   "metadata": {},
   "outputs": [
    {
     "data": {
      "text/html": [
       "<div>\n",
       "<style scoped>\n",
       "    .dataframe tbody tr th:only-of-type {\n",
       "        vertical-align: middle;\n",
       "    }\n",
       "\n",
       "    .dataframe tbody tr th {\n",
       "        vertical-align: top;\n",
       "    }\n",
       "\n",
       "    .dataframe thead th {\n",
       "        text-align: right;\n",
       "    }\n",
       "</style>\n",
       "<table border=\"1\" class=\"dataframe\">\n",
       "  <thead>\n",
       "    <tr style=\"text-align: right;\">\n",
       "      <th></th>\n",
       "      <th>Theme</th>\n",
       "      <th>Sub Theme</th>\n",
       "      <th>Feature Name</th>\n",
       "      <th>Co-ordinates</th>\n",
       "    </tr>\n",
       "  </thead>\n",
       "  <tbody>\n",
       "    <tr>\n",
       "      <th>0</th>\n",
       "      <td>Art Gallery/Museum/Library</td>\n",
       "      <td>Library</td>\n",
       "      <td>The Melbourne Athenaeum Library</td>\n",
       "      <td>(-37.8148855756416, 144.967291289941)</td>\n",
       "    </tr>\n",
       "    <tr>\n",
       "      <th>1</th>\n",
       "      <td>Leisure/Recreation</td>\n",
       "      <td>Informal Outdoor Facility (Park/Garden/Reserve)</td>\n",
       "      <td>Carlton Gardens South</td>\n",
       "      <td>(-37.8060684577258, 144.971266479841)</td>\n",
       "    </tr>\n",
       "    <tr>\n",
       "      <th>2</th>\n",
       "      <td>Place of Worship</td>\n",
       "      <td>Church</td>\n",
       "      <td>St Francis Church</td>\n",
       "      <td>(-37.8118847831837, 144.962422614541)</td>\n",
       "    </tr>\n",
       "    <tr>\n",
       "      <th>3</th>\n",
       "      <td>Place of Worship</td>\n",
       "      <td>Church</td>\n",
       "      <td>Wesley Church</td>\n",
       "      <td>(-37.8101576446961, 144.968168215633)</td>\n",
       "    </tr>\n",
       "    <tr>\n",
       "      <th>4</th>\n",
       "      <td>Place of Worship</td>\n",
       "      <td>Church</td>\n",
       "      <td>St Augustines Church</td>\n",
       "      <td>(-37.8169741358546, 144.954862000132)</td>\n",
       "    </tr>\n",
       "  </tbody>\n",
       "</table>\n",
       "</div>"
      ],
      "text/plain": [
       "                        Theme  \\\n",
       "0  Art Gallery/Museum/Library   \n",
       "1          Leisure/Recreation   \n",
       "2            Place of Worship   \n",
       "3            Place of Worship   \n",
       "4            Place of Worship   \n",
       "\n",
       "                                         Sub Theme  \\\n",
       "0                                          Library   \n",
       "1  Informal Outdoor Facility (Park/Garden/Reserve)   \n",
       "2                                           Church   \n",
       "3                                           Church   \n",
       "4                                           Church   \n",
       "\n",
       "                      Feature Name                           Co-ordinates  \n",
       "0  The Melbourne Athenaeum Library  (-37.8148855756416, 144.967291289941)  \n",
       "1            Carlton Gardens South  (-37.8060684577258, 144.971266479841)  \n",
       "2                St Francis Church  (-37.8118847831837, 144.962422614541)  \n",
       "3                    Wesley Church  (-37.8101576446961, 144.968168215633)  \n",
       "4             St Augustines Church  (-37.8169741358546, 144.954862000132)  "
      ]
     },
     "execution_count": 10,
     "metadata": {},
     "output_type": "execute_result"
    }
   ],
   "source": [
    "poi_data = pd.read_csv('data/Landmarks_and_places_of_interest__including_schools__theatres__health_services__sports_facilities__places_of_worship__galleries_and_museums.csv')\n",
    "poi_data.head(5)"
   ]
  },
  {
   "cell_type": "code",
   "execution_count": 11,
   "metadata": {},
   "outputs": [],
   "source": [
    "kept_venue = ['Aquarium',\n",
    " 'Art Gallery/Museum',\n",
    " 'Bridge',\n",
    " 'Casino',\n",
    " 'Church',\n",
    " 'Cinema',\n",
    " 'Department Store',\n",
    " 'Function/Conference/Exhibition Centre',\n",
    " 'Indoor Recreation Facility',\n",
    " 'Informal Outdoor Facility (Park/Garden/Reserve)',\n",
    " 'Library',\n",
    " 'Major Sports & Recreation Facility',\n",
    " 'Marina',\n",
    " 'Observation Tower/Wheel',\n",
    " 'Outdoor Recreation Facility (Zoo, Golf Course)',\n",
    " 'Private Sports Club/Facility',\n",
    " 'Public Buildings',\n",
    " 'Railway Station',\n",
    " 'Retail',\n",
    " 'Retail/Office',\n",
    " 'Retail/Office/Carpark',\n",
    " 'Retail/Office/Residential/Carpark',\n",
    " 'Retail/Residential',\n",
    " 'Synagogue',\n",
    " 'Tertiary (University)',\n",
    " 'Theatre Live',\n",
    " 'Visitor Centre']"
   ]
  },
  {
   "cell_type": "code",
   "execution_count": 17,
   "metadata": {},
   "outputs": [],
   "source": [
    "#poi_data = pd.read_csv('data/Landmarks_and_places_of_interest__including_schools__theatres__health_services__sports_facilities__places_of_worship__galleries_and_museums..csv')\n",
    "#poi_data = poi_data[poi_data['Sub Theme'].isin(kept_venue)]\n",
    "#poi_data = poi_data.reset_index(drop=True)"
   ]
  },
  {
   "cell_type": "code",
   "execution_count": 19,
   "metadata": {},
   "outputs": [],
   "source": [
    "#poi_data.to_csv('data/cleaned_poi.csv', index=False)"
   ]
  },
  {
   "cell_type": "code",
   "execution_count": 68,
   "metadata": {},
   "outputs": [],
   "source": [
    "poi_data = pd.read_csv('data/Landmarks_and_places_of_interest__including_schools__theatres__health_services__sports_facilities__places_of_worship__galleries_and_museums.csv')\n",
    "poi_data['Co-ordinates'] = poi_data['Co-ordinates'].str[1:-1]\n",
    "poi_data[['lat', 'long']] = poi_data['Co-ordinates'].str.split(', ', expand=True)\n",
    "#poi_data.to_csv('data/cleaned_poi.csv', index=False)"
   ]
  },
  {
   "cell_type": "code",
   "execution_count": 69,
   "metadata": {},
   "outputs": [
    {
     "data": {
      "text/plain": [
       "{'Art Gallery/Museum/Library',\n",
       " 'Landmark',\n",
       " 'Leisure/Recreation',\n",
       " 'Place of Worship',\n",
       " 'Retail',\n",
       " 'Visitor Centre'}"
      ]
     },
     "execution_count": 69,
     "metadata": {},
     "output_type": "execute_result"
    }
   ],
   "source": [
    "poi_data.columns = ['theme', 'sub_theme', 'feature_name', 'coordinates', 'url', 'lat', 'long']\n",
    "set(poi_data.theme)"
   ]
  },
  {
   "cell_type": "code",
   "execution_count": 70,
   "metadata": {},
   "outputs": [],
   "source": [
    "gallery = poi_data[poi_data.theme == 'Art Gallery/Museum/Library']\n",
    "gallery.to_csv('data/gallery_poi.csv', index=False)"
   ]
  },
  {
   "cell_type": "code",
   "execution_count": 71,
   "metadata": {},
   "outputs": [],
   "source": [
    "landmark = poi_data[poi_data.theme == 'Landmark']\n",
    "landmark.to_csv('data/landmark_poi.csv', index=False)"
   ]
  },
  {
   "cell_type": "code",
   "execution_count": 72,
   "metadata": {},
   "outputs": [],
   "source": [
    "leisure = poi_data[poi_data.theme == 'Leisure/Recreation']\n",
    "leisure.to_csv('data/leisure_poi.csv', index=False)"
   ]
  },
  {
   "cell_type": "code",
   "execution_count": 73,
   "metadata": {},
   "outputs": [],
   "source": [
    "church = poi_data[poi_data.theme == 'Place of Worship']\n",
    "church.to_csv('data/church_poi.csv', index=False)"
   ]
  },
  {
   "cell_type": "code",
   "execution_count": 74,
   "metadata": {},
   "outputs": [],
   "source": [
    "retail = poi_data[poi_data.theme == 'Retail']\n",
    "retail.to_csv('data/retail_poi.csv', index=False)"
   ]
  },
  {
   "cell_type": "code",
   "execution_count": 75,
   "metadata": {},
   "outputs": [],
   "source": [
    "visitor = poi_data[poi_data.theme == 'Visitor Centre']\n",
    "visitor.to_csv('data/visitor_poi.csv', index=False)"
   ]
  },
  {
   "cell_type": "markdown",
   "metadata": {},
   "source": [
    "Clean City Circle Stops dataset"
   ]
  },
  {
   "cell_type": "code",
   "execution_count": 9,
   "metadata": {},
   "outputs": [],
   "source": [
    "city_circle = pd.read_csv('data/City_Circle_Stops.csv')\n",
    "city_circle.the_geom = city_circle.the_geom.str[7:-1]\n",
    "city_circle[['long', 'lat']] = city_circle.the_geom.str.split(' ', expand=True)\n",
    "city_circle.to_csv('data/cleaned_city_circle.csv', index=False)"
   ]
  }
 ],
 "metadata": {
  "kernelspec": {
   "display_name": "Python 3.8.8 ('base')",
   "language": "python",
   "name": "python3"
  },
  "language_info": {
   "codemirror_mode": {
    "name": "ipython",
    "version": 3
   },
   "file_extension": ".py",
   "mimetype": "text/x-python",
   "name": "python",
   "nbconvert_exporter": "python",
   "pygments_lexer": "ipython3",
   "version": "3.8.8"
  },
  "orig_nbformat": 4,
  "vscode": {
   "interpreter": {
    "hash": "40d3a090f54c6569ab1632332b64b2c03c39dcf918b08424e98f38b5ae0af88f"
   }
  }
 },
 "nbformat": 4,
 "nbformat_minor": 2
}
